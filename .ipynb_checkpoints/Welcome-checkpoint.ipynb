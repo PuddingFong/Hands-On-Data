{
 "cells": [
  {
   "cell_type": "code",
   "execution_count": 2,
   "metadata": {
    "collapsed": true
   },
   "outputs": [],
   "source": [
    "import pandas as pd\n",
    "import numpy as np\n",
    "import matplotlib.pyplot as plt\n",
    "import seaborn as sns\n",
    "plt.style.use('fivethirtyeight')\n",
    "%matplotlib inline\n",
    "import sklearn\n",
    "import datetime\n",
    "from dateutil import parser\n",
    "import calendar"
   ]
  },
  {
   "cell_type": "code",
   "execution_count": 4,
   "metadata": {},
   "outputs": [
    {
     "data": {
      "text/html": [
       "<div>\n",
       "<style>\n",
       "    .dataframe thead tr:only-child th {\n",
       "        text-align: right;\n",
       "    }\n",
       "\n",
       "    .dataframe thead th {\n",
       "        text-align: left;\n",
       "    }\n",
       "\n",
       "    .dataframe tbody tr th {\n",
       "        vertical-align: top;\n",
       "    }\n",
       "</style>\n",
       "<table border=\"1\" class=\"dataframe\">\n",
       "  <thead>\n",
       "    <tr style=\"text-align: right;\">\n",
       "      <th></th>\n",
       "      <th>average_speed</th>\n",
       "      <th>average_heartrate</th>\n",
       "      <th>average_watts</th>\n",
       "      <th>distance</th>\n",
       "      <th>elapsed_time</th>\n",
       "      <th>total_elevation_gain</th>\n",
       "      <th>type</th>\n",
       "      <th>commute</th>\n",
       "      <th>start_date_local</th>\n",
       "    </tr>\n",
       "  </thead>\n",
       "  <tbody>\n",
       "    <tr>\n",
       "      <th>0</th>\n",
       "      <td>5.465</td>\n",
       "      <td>129.9</td>\n",
       "      <td>131.7</td>\n",
       "      <td>51690.0</td>\n",
       "      <td>3:23:50</td>\n",
       "      <td>1414.0</td>\n",
       "      <td>Ride</td>\n",
       "      <td>False</td>\n",
       "      <td>2018-05-21T09:59:24</td>\n",
       "    </tr>\n",
       "    <tr>\n",
       "      <th>1</th>\n",
       "      <td>6.948</td>\n",
       "      <td>131.3</td>\n",
       "      <td>127.8</td>\n",
       "      <td>133126.0</td>\n",
       "      <td>6:17:54</td>\n",
       "      <td>2280.0</td>\n",
       "      <td>Ride</td>\n",
       "      <td>False</td>\n",
       "      <td>2018-05-20T08:46:44</td>\n",
       "    </tr>\n",
       "    <tr>\n",
       "      <th>2</th>\n",
       "      <td>6.853</td>\n",
       "      <td>135.4</td>\n",
       "      <td>136.4</td>\n",
       "      <td>108418.0</td>\n",
       "      <td>4:39:40</td>\n",
       "      <td>1950.0</td>\n",
       "      <td>Ride</td>\n",
       "      <td>False</td>\n",
       "      <td>2018-05-19T08:12:35</td>\n",
       "    </tr>\n",
       "    <tr>\n",
       "      <th>3</th>\n",
       "      <td>6.756</td>\n",
       "      <td>NaN</td>\n",
       "      <td>135.3</td>\n",
       "      <td>59019.1</td>\n",
       "      <td>2:38:43</td>\n",
       "      <td>937.0</td>\n",
       "      <td>Ride</td>\n",
       "      <td>False</td>\n",
       "      <td>2018-05-17T17:50:55</td>\n",
       "    </tr>\n",
       "    <tr>\n",
       "      <th>4</th>\n",
       "      <td>7.454</td>\n",
       "      <td>NaN</td>\n",
       "      <td>117.7</td>\n",
       "      <td>23830.9</td>\n",
       "      <td>0:55:01</td>\n",
       "      <td>122.0</td>\n",
       "      <td>Ride</td>\n",
       "      <td>False</td>\n",
       "      <td>2018-05-17T07:15:06</td>\n",
       "    </tr>\n",
       "  </tbody>\n",
       "</table>\n",
       "</div>"
      ],
      "text/plain": [
       "   average_speed  average_heartrate  average_watts  distance elapsed_time  \\\n",
       "0          5.465              129.9          131.7   51690.0      3:23:50   \n",
       "1          6.948              131.3          127.8  133126.0      6:17:54   \n",
       "2          6.853              135.4          136.4  108418.0      4:39:40   \n",
       "3          6.756                NaN          135.3   59019.1      2:38:43   \n",
       "4          7.454                NaN          117.7   23830.9      0:55:01   \n",
       "\n",
       "   total_elevation_gain  type  commute     start_date_local  \n",
       "0                1414.0  Ride    False  2018-05-21T09:59:24  \n",
       "1                2280.0  Ride    False  2018-05-20T08:46:44  \n",
       "2                1950.0  Ride    False  2018-05-19T08:12:35  \n",
       "3                 937.0  Ride    False  2018-05-17T17:50:55  \n",
       "4                 122.0  Ride    False  2018-05-17T07:15:06  "
      ]
     },
     "execution_count": 4,
     "metadata": {},
     "output_type": "execute_result"
    }
   ],
   "source": [
    "df = pd.read_csv('my_strava_activities.csv', index_col=0)\n",
    "df.head()"
   ]
  },
  {
   "cell_type": "code",
   "execution_count": null,
   "metadata": {
    "collapsed": true
   },
   "outputs": [],
   "source": []
  }
 ],
 "metadata": {
  "kernelspec": {
   "display_name": "Python 3",
   "language": "python",
   "name": "python3"
  },
  "language_info": {
   "codemirror_mode": {
    "name": "ipython",
    "version": 3
   },
   "file_extension": ".py",
   "mimetype": "text/x-python",
   "name": "python",
   "nbconvert_exporter": "python",
   "pygments_lexer": "ipython3",
   "version": "3.6.2"
  }
 },
 "nbformat": 4,
 "nbformat_minor": 2
}
